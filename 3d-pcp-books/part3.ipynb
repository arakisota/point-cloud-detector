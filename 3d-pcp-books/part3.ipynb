{
 "cells": [
  {
   "cell_type": "markdown",
   "id": "f833f30e-9a7f-4cb9-bc87-a3444a87ee4f",
   "metadata": {},
   "source": [
    "# 第3章 特徴点・特徴量の抽出"
   ]
  },
  {
   "cell_type": "markdown",
   "id": "0fd1f3f9-3ed3-4d15-8a69-850bb7d72483",
   "metadata": {},
   "source": [
    "## 3.1 特徴点（キーポイント）\n",
    "特徴点とは、点群の中でも特徴的なパターンを持ち、他の点と区別が付きやすいランドマークなりうる点のことを指す。  \n",
    "  \n",
    "### Harris3D\n",
    "- Harris Corner Detectorの3Dバージョン\n",
    "    - 3次元点群処理のオープンソースライブラリであるPoint Cloud Library(PCL)が作成したもの\n",
    "- 画素値勾配の代わりに点の法線ベクトルを用いてHarris指標を計算している\n",
    "- 最後にNon Maximum Suppression(NMS)を実施している"
   ]
  },
  {
   "cell_type": "code",
   "execution_count": 32,
   "id": "b5b06a05-ccea-4108-a139-bd759491e41a",
   "metadata": {},
   "outputs": [],
   "source": [
    "import open3d as o3d\n",
    "\n",
    "\"\"\"\n",
    "この関数は特徴点が見やすいように大きくマーキングする関数\n",
    "→keypointを中心として、radiusの大きさの球で表示される\n",
    "→最後にpaintで着色して、保存される\n",
    "\n",
    "spheresはメッシュの箱みたいなイメージ。ここに+=で足していくことで、pointとtrianglesの情報が入った三角メッシュがここで追加される。\n",
    "→追加された分だけ、後でメッシュとして表示される\n",
    "\n",
    "ちなみにsphereは球という意味\n",
    "\"\"\"\n",
    "# This function is only used to make the keypoints look better on the rendering\n",
    "def keypoints_to_spheres(keypoints):\n",
    "    spheres = o3d.geometry.TriangleMesh()\n",
    "    for keypoint in keypoints.points:\n",
    "        sphere = o3d.geometry.TriangleMesh.create_sphere(radius=0.001)\n",
    "        sphere.translate(keypoint)\n",
    "        spheres += sphere\n",
    "    spheres.paint_uniform_color([1.0, 0.75, 0.0])\n",
    "    return spheres"
   ]
  },
  {
   "cell_type": "code",
   "execution_count": 40,
   "id": "0a39a9fa-3475-4315-a8ba-40b1bb34ebf4",
   "metadata": {
    "tags": []
   },
   "outputs": [
    {
     "name": "stdout",
     "output_type": "stream",
     "text": [
      "TriangleMesh with 0 points and 0 triangles.\n",
      "TriangleMesh with 32766 points and 65360 triangles.\n"
     ]
    },
    {
     "data": {
      "text/plain": [
       "TriangleMesh with 32766 points and 65360 triangles."
      ]
     },
     "execution_count": 40,
     "metadata": {},
     "output_type": "execute_result"
    }
   ],
   "source": [
    "#上記の関数をシミュレーション\n",
    "spheres = o3d.geometry.TriangleMesh()\n",
    "print(spheres)\n",
    "for keypoint in keypoints.points:\n",
    "    sphere = o3d.geometry.TriangleMesh.create_sphere(radius=0.001)\n",
    "    #print(sphere)\n",
    "    #print(sphere.translate(keypoint))\n",
    "    spheres += sphere\n",
    "    #print(spheres)\n",
    "print(spheres)\n",
    "spheres.paint_uniform_color([1.0, 0.75, 0.0])"
   ]
  },
  {
   "cell_type": "code",
   "execution_count": 41,
   "id": "e582b7d5-bc31-4ae7-b081-7cf2f83fee39",
   "metadata": {
    "tags": []
   },
   "outputs": [
    {
     "name": "stdout",
     "output_type": "stream",
     "text": [
      "Loading a point cloud from ../3rdparty/Open3D/examples/test_data/Bunny.ply\n",
      "PointCloud with 35947 points.\n",
      "PointCloud with 43 points.\n",
      "[[-0.0245507   0.183147   -0.010424  ]\n",
      " [-0.013506    0.0486161   0.0481837 ]\n",
      " [-0.0505546   0.0490872   0.0373101 ]\n",
      " [-0.0244966   0.0509689   0.0431921 ]\n",
      " [-0.0205114   0.0512056   0.0456176 ]\n",
      " [-0.0285043   0.0545632   0.0363758 ]\n",
      " [-0.0274872   0.094655    0.0450969 ]\n",
      " [-0.00049849  0.101653    0.0443576 ]\n",
      " [-0.00888297  0.175714   -0.027834  ]\n",
      " [-0.0384872   0.0337149  -0.0296051 ]\n",
      " [-0.0741326   0.180484   -0.0536706 ]\n",
      " [-0.022585    0.185119   -0.0131839 ]\n",
      " [-0.0646788   0.0378404   0.0247428 ]\n",
      " [-0.0401042   0.037954    0.0427598 ]\n",
      " [-0.0285615   0.0382432   0.0537594 ]\n",
      " [-0.0229243   0.0972075   0.044901  ]\n",
      " [-0.0430533   0.034543   -0.0263375 ]\n",
      " [-0.0108057   0.0342947  -0.0255969 ]\n",
      " [-0.0340151   0.0498932  -0.013349  ]\n",
      " [-0.0767777   0.176413   -0.0510191 ]\n",
      " [-0.0169852   0.186593   -0.0230311 ]\n",
      " [-0.0603904   0.152423    0.00027298]\n",
      " [-0.0356487   0.0352259  -0.0310792 ]\n",
      " [-0.0652676   0.179645   -0.0602668 ]\n",
      " [-0.00757151  0.0346922  -0.0244599 ]\n",
      " [-0.0276072   0.0488225  -0.0246209 ]\n",
      " [-0.0518697   0.144272   -0.00023985]\n",
      " [-0.035755    0.0783248  -0.0195335 ]\n",
      " [-0.0121243   0.183164   -0.0282842 ]\n",
      " [ 0.00908719  0.0358267  -0.00842564]\n",
      " [-0.0483458   0.0338972  -0.0143683 ]\n",
      " [-0.058681    0.0336414  -0.0106847 ]\n",
      " [-0.0623556   0.0337533  -0.00969501]\n",
      " [-0.0697867   0.034416   -0.00452426]\n",
      " [-0.0728722   0.0355547   0.00103582]\n",
      " [-0.0728598   0.0355014   0.00645302]\n",
      " [-0.0621198   0.0344764   0.0202314 ]\n",
      " [-0.0728503   0.107163    0.0374416 ]\n",
      " [-0.0757136   0.107486    0.0366393 ]\n",
      " [-0.0501242   0.144161    0.00100252]\n",
      " [-0.0715189   0.150138   -0.0417489 ]\n",
      " [-0.0643532   0.142586   -0.00864957]\n",
      " [-0.00971544  0.177216   -0.0294611 ]]\n"
     ]
    }
   ],
   "source": [
    "import sys\n",
    "import open3d as o3d\n",
    "import numpy as np\n",
    "#from keypoints_to_spheres import keypoints_to_spheres  \n",
    "#これはkeypoints_to_spheresというPythonファイルから取ってきたものだからerrorが出ていた\n",
    "\n",
    "def compute_harris3d_keypoints(pcd, radius=0.01, max_nn=10, threshold=0.001):\n",
    "    # 法線ベクトルを計算\n",
    "    pcd.estimate_normals(\n",
    "        search_param=o3d.geometry.KDTreeSearchParamHybrid(radius=radius, max_nn=max_nn))\n",
    "    #近傍点探索のためのkd-treeを作成\n",
    "    pcd_tree = o3d.geometry.KDTreeFlann(pcd)\n",
    "    harris = np.zeros(len(np.asarray(pcd.points)) )\n",
    "    is_active = np.zeros(len(np.asarray(pcd.points)), dtype=bool)\n",
    "\n",
    "    #Harris指標を計算\n",
    "    #各点における近傍点群の共分散を計算して、Harris指標を計算する\n",
    "    for i in range(len(np.asarray(pcd.points))):\n",
    "        [num_nn, inds, _] = pcd_tree.search_knn_vector_3d(pcd.points[i], max_nn)\n",
    "        pcd_normals = pcd.select_by_index(inds)\n",
    "        pcd_normals.points = pcd_normals.normals\n",
    "        [_, covar] = pcd_normals.compute_mean_and_covariance()\n",
    "        harris[ i ] = np.linalg.det( covar ) / np.trace( covar )\n",
    "        if (harris[ i ] > threshold):\n",
    "            is_active[ i ] = True\n",
    "\n",
    "    #NMS(Non Maximum Suppression)\n",
    "    for i in range(len(np.asarray(pcd.points))):\n",
    "        if is_active[ i ]:\n",
    "            [num_nn, inds, _] = pcd_tree.search_knn_vector_3d(pcd.points[i], max_nn)\n",
    "            inds.pop(harris[inds].argmax())\n",
    "            is_active[inds] = False\n",
    "\n",
    "    keypoints = pcd.select_by_index(np.where(is_active)[0])\n",
    "    return keypoints\n",
    "\n",
    "# main\n",
    "#filename = sys.argv[1]\n",
    "filename = \"../3rdparty/Open3D/examples/test_data/Bunny.ply\"\n",
    "#filename = \"G-PCD/stimuli/D01/cube_D01_L01.ply\"\n",
    "#filename = \"G-PCD/stimuli/D01/sphere_D01_L01.ply\"\n",
    "#filename = \"G-PCD/stimuli/D01/bunny_D01_L01.ply\"\n",
    "print(\"Loading a point cloud from\", filename)\n",
    "pcd = o3d.io.read_point_cloud(filename)\n",
    "print(pcd)\n",
    "\n",
    "keypoints = compute_harris3d_keypoints(pcd)\n",
    "print(keypoints)\n",
    "print(np.asarray(keypoints.points))\n",
    "\n",
    "pcd.paint_uniform_color([0.5, 0.5, 0.5])\n",
    "o3d.visualization.draw_geometries([keypoints_to_spheres(keypoints), pcd])\n",
    "#o3d.visualization.draw_geometries([pcd, keypoints])"
   ]
  },
  {
   "cell_type": "markdown",
   "id": "3e4d6995-c79b-4213-b3d4-1982eafbb058",
   "metadata": {},
   "source": [
    "### Intrinsic Shape Signature(ISS)\n",
    "- 固有値分解を用いて計算する \n",
    "- 三次元点の近傍点の集合において、それらの点の重心を用いて、共分散行列を計算する\n",
    "- そして固有値の大きい順にλ1, λ2, λ3として、最小固有値λ3を顕著度として扱う\n",
    "    - λ2/λ1, λ3/λ2の固有値の比がある閾値以上となる点は除外する\n",
    "- 最後にHarris3Dと同様にNMS処理を行い、近傍点群の中で顕著度が最大となる点のみ抽出する    "
   ]
  },
  {
   "cell_type": "code",
   "execution_count": 6,
   "id": "9594b80b-4464-4a6a-98af-9d40588cebc9",
   "metadata": {},
   "outputs": [
    {
     "name": "stdout",
     "output_type": "stream",
     "text": [
      "Loading a point cloud from G-PCD/stimuli/D01/cube_D01_L01.ply\n",
      "PointCloud with 27541 points.\n",
      "PointCloud with 0 points.\n"
     ]
    }
   ],
   "source": [
    "#ISS(Intrinsic Shape Signature)\n",
    "import sys\n",
    "import open3d as o3d\n",
    "#from keypoints_to_spheres import keypoints_to_spheres\n",
    "\n",
    "#filename = sys.argv[1]\n",
    "#filename = \"../3rdparty/Open3D/examples/test_data/Bunny.ply\"\n",
    "filename = \"G-PCD/stimuli/D01/cube_D01_L01.ply\"\n",
    "print(\"Loading a point cloud from\", filename)\n",
    "pcd = o3d.io.read_point_cloud(filename)\n",
    "print(pcd)\n",
    "\n",
    "keypoints = o3d.geometry.keypoint.compute_iss_keypoints(pcd, salient_radius=0.005, non_max_radius=0.005, gamma_21=0.5, gamma_32=0.5)\n",
    "print(keypoints)\n",
    "\n",
    "pcd.estimate_normals(search_param=o3d.geometry.KDTreeSearchParamHybrid(radius=0.01, max_nn=10))\n",
    "pcd.paint_uniform_color([0.5, 0.5, 0.5])\n",
    "o3d.visualization.draw_geometries([keypoints_to_spheres(keypoints), pcd])"
   ]
  },
  {
   "cell_type": "markdown",
   "id": "d80506df-1d31-4b96-b8ab-c9ce32c90f05",
   "metadata": {},
   "source": [
    "## 3.2 大域特徴量\n",
    "#### 物体認識\n",
    "- 一般物体認識\n",
    "    - 物体のカテゴリ名称を推定する処理\n",
    "- 特定物体認識\n",
    "    - 特定のデータベース登録物体のどれに合致するかを推定する処理  \n",
    "    \n",
    "#### 特徴量\n",
    "- 大域特徴量とは、入力データ全体を表現する数値列\n",
    "- 局所特徴量とは、入力データの局所領域を表現する数値列\n",
    "    - 多くの場合は、あるデータと別のデータ上の特徴点の対応づけを行うために使用される\n",
    "    \n",
    "#### 三次元物体の回転への対処方法\n",
    "1. 回転不変な特徴量を扱う\n",
    "    - Spherical Harmonics Representation\n",
    "2. 主成分分析を行うなどして、物体の基準軸を求め、基準姿勢に回転させる\n",
    "    - Spin Image\n",
    "3. 大量に回転させてあらゆる姿勢を試す\n",
    "    - LightField Descriptor(LFD)"
   ]
  },
  {
   "cell_type": "markdown",
   "id": "4ec9026f-d543-4b2e-8c6f-152f4852dc8b",
   "metadata": {},
   "source": [
    "### 3D Shape Histogram\n",
    "最も基本的な三次元特徴量  \n",
    "- 多くの三次元特徴量が空間分割によるヒストグラム計算のアプローチ手法をとる  \n",
    "  \n",
    "3Dデータの中心を原点として、物体表面上の点を球上等間隔にサンプリングする  \n",
    "- Shellモデル\n",
    "    - 球の半径方向の分割\n",
    "    - 原点を中心として、各点を回転させる変化を加えたときに、変換後の点が変換前の点と同じ領域に含まれるため、物体の回転に対して不変な特徴量が得られる\n",
    "- Sectorモデル\n",
    "    - 角度方向の分割\n",
    "- Combinedモデル\n",
    "    - 二つのモデルの組み合わせ"
   ]
  },
  {
   "cell_type": "markdown",
   "id": "0f3d1f72-4020-4ebb-ad39-93fcdaaa268a",
   "metadata": {},
   "source": [
    "### Spherical Harmonics Representation\n",
    "任意の物体の三次元形状を球面上のある関数とみなし、これを有限個の基底ベクトルの線型結合で近似するもの  \n",
    "- 任意の関数は、球面調和関数で表すことができる\n",
    "    - これは三次元形状のフーリエ変換みたいなもの\n",
    "        - 低周波数の関数は大域的な形状を捉えている\n",
    "        - 高周波数の関数は局所的な形状を捉えている\n",
    "- 各周波数における関数の持つエネルギーを並べた特徴量SHとして定義している\n",
    "    -　この特徴量は回転不変性\n",
    "- これで最終的に二次元ヒストグラムが得られる    "
   ]
  },
  {
   "cell_type": "markdown",
   "id": "1526f2c8-27b2-41a1-8a83-5ac5b477744a",
   "metadata": {},
   "source": [
    "### LightField Descriptor(LFD)\n",
    "- 物体を仮想的に配置したカメラにより他方向から見た二次元画像の集まりとして表現する\n",
    "    - これを多視点画像という\n",
    "    - 正十二面体の20個の頂点上に配置する\n",
    "        - 正十二面体の各頂点は3つの辺と接しているから、カメラの位置を別の位置に移動させるようなパターンは20*3=60通りになる\n",
    "    - さらにN通りの角度から仮想的に撮影して、最後にレンダリングする\n",
    "- 各カメラ画像からシルエットの輪郭を表現する記述子を計算する\n",
    "    - あらゆる姿勢の組み合わせにおいてシルエットの類似度の総和を計算する\n",
    "        - N*(N-1)*60通り"
   ]
  },
  {
   "cell_type": "markdown",
   "id": "59391c88-779c-424f-8da9-d84435fc055f",
   "metadata": {},
   "source": [
    "## 3.3 局所特徴量\n",
    "局所特徴量とは、ある特徴点p周りの局所領域を記述する特徴量"
   ]
  },
  {
   "cell_type": "markdown",
   "id": "7bc16041-080f-469c-acd7-002b7629e5af",
   "metadata": {},
   "source": [
    "### Spin Image\n",
    "点群から得られる局所特徴量として最もよく知られている方法。以下のように、特徴点近傍の物理空間を分割する。色付き点群の場合でもうまく行く。  \n",
    "多くの場合は、特徴点の接平面の法線ベクトルを基準とすることで回転不変性を確保している  \n",
    "  \n",
    "全体的な流れ\n",
    "- ある点pの法線ベクトルnを求める\n",
    "- その点pの接平面に対してある近傍点qを計算する\n",
    "- 二つの距離αとβを求めて、二次元ヒストグラムを作成する"
   ]
  },
  {
   "cell_type": "markdown",
   "id": "bfe0d10d-5fe8-4347-bf39-ff3fd089a8df",
   "metadata": {},
   "source": [
    "### SHOT\n",
    "点群から抽出する特徴量として、よく知られている手法。特徴点周辺の局所領域を空間分割して、ヒストグラムを求めるアプローチ。  \n",
    "  \n",
    "- 特徴点pの近傍点群の共分散行列Mpを固有値分解する手法\n",
    "    - Mpの固有値分解で得られる基準軸はノイズの影響を受けやすい\n",
    "    - SHOTではよりノイズに頑健で再現性の高いRFを求めるためのMp'が提案されている\n",
    "- RFを用いることで、局所空間は半径、方位角、高度の3方向に分割できる\n",
    "    - 半径２分割、方位角8分割、高度２分割の計32分割して、各領域の法線ベクトルとその領域内の点の法線ベクトルの内積cosθに関するヒストグラムを計算する\n",
    "  \n",
    "Spin Imageとの大きな違い\n",
    "- 空間の基準軸の取り方\n",
    "    - 特徴点の接平面の法線ベクトルという1軸を基準に取り、Reference Axis(RA)として特徴量を計算する\n",
    "        - Spin Image\n",
    "    - 3軸を固定されたReference Frame(RF)に基づいて、特徴量を計算する\n",
    "        - SHOT"
   ]
  },
  {
   "cell_type": "markdown",
   "id": "ddc30381-21d5-410d-ac4b-4c426916de93",
   "metadata": {},
   "source": [
    "### Fast Point Feature Histograms(FPFH)\n",
    "#### Point Feature Histograms(PFH)\n",
    "- ある特徴点pを中心とした小球領域に含まれるk個の近傍点を求め、それらの点から2点を選ぶ全ての組み合わせに対して、計算されるパラメータのヒストグラムを計算する\n",
    "    - このヒストグラムをSimplified Point Feature Histogram(SPFH)と呼ぶ\n",
    "- PFH計算量はO(k^2)\n",
    "これらを用いてFPFHは計算される\n",
    "- FPFHの計算量はO(k)\n",
    "    - PFHより高速な処理になっている"
   ]
  },
  {
   "cell_type": "code",
   "execution_count": 18,
   "id": "e58709f5-25a0-4fe0-8a30-49a03f566a65",
   "metadata": {},
   "outputs": [
    {
     "name": "stdout",
     "output_type": "stream",
     "text": [
      "Loading a point cloud from ../3rdparty/Open3D/examples/test_data/Bunny.ply\n",
      "PointCloud with 35947 points.\n",
      "Feature class with dimension = 33 and num = 35947\n",
      "Access its data via data member.\n",
      "[[6.58957766e+00 3.79393273e+01 1.98728631e+01 ... 1.37361634e+01\n",
      "  5.62345957e+01 6.91576122e+01]\n",
      " [4.35214343e-01 9.17400623e+00 3.29149924e+00 ... 1.13916505e+01\n",
      "  8.43037236e+00 4.78908865e+00]\n",
      " [0.00000000e+00 0.00000000e+00 1.23328722e-02 ... 2.90852440e+01\n",
      "  5.58364644e-01 0.00000000e+00]\n",
      " ...\n",
      " [1.57724176e-01 6.55616862e+00 3.56026334e-02 ... 1.54064573e+01\n",
      "  7.06264438e+00 2.16854319e-01]\n",
      " [0.00000000e+00 1.57400234e-03 0.00000000e+00 ... 9.37837028e+00\n",
      "  4.98573232e-01 2.37804435e-03]\n",
      " [0.00000000e+00 0.00000000e+00 0.00000000e+00 ... 5.85007116e+00\n",
      "  2.16728379e-01 0.00000000e+00]]\n"
     ]
    }
   ],
   "source": [
    "#Open3DにはFPFHのみ実装されている\n",
    "#FPFH(Fast Point Feature Histogram)\n",
    "\n",
    "import sys \n",
    "import open3d as o3d\n",
    "\n",
    "#filename = sys.argv[1]\n",
    "filename = \"../3rdparty/Open3D/examples/test_data/Bunny.ply\"\n",
    "print(\"Loading a point cloud from\", filename)\n",
    "pcd = o3d.io.read_point_cloud(filename)\n",
    "print(pcd)\n",
    "\n",
    "#法線ベクトルを計算\n",
    "pcd.estimate_normals(search_param = o3d.geometry.KDTreeSearchParamHybrid(radius=0.01, max_nn=10))\n",
    "#FPFHを計算\n",
    "fpth = o3d.pipelines.registration.compute_fpfh_feature(pcd, search_param = o3d.geometry.KDTreeSearchParamHybrid(radius=0.03, max_nn=100))\n",
    "\n",
    "print(fpth)\n",
    "print(fpth.data)"
   ]
  },
  {
   "cell_type": "code",
   "execution_count": null,
   "id": "a4bfed96-8003-44c3-82e6-5c2041f33d4d",
   "metadata": {},
   "outputs": [],
   "source": []
  }
 ],
 "metadata": {
  "kernelspec": {
   "display_name": "Python 3",
   "language": "python",
   "name": "python3"
  },
  "language_info": {
   "codemirror_mode": {
    "name": "ipython",
    "version": 3
   },
   "file_extension": ".py",
   "mimetype": "text/x-python",
   "name": "python",
   "nbconvert_exporter": "python",
   "pygments_lexer": "ipython3",
   "version": "3.8.8"
  }
 },
 "nbformat": 4,
 "nbformat_minor": 5
}
