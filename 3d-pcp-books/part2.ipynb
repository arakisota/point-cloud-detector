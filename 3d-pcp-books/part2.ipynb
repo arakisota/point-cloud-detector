{
 "cells": [
  {
   "cell_type": "markdown",
   "id": "862d5b9f-1316-41ca-956b-a2f4cf3f8c67",
   "metadata": {},
   "source": [
    "# 第2章 点群処理の基礎"
   ]
  },
  {
   "cell_type": "markdown",
   "id": "be2bd458-b327-442c-b766-d7658b3c6c78",
   "metadata": {},
   "source": [
    "## 2.1 ファイルの入出力"
   ]
  },
  {
   "cell_type": "markdown",
   "id": "16fa6730-19a4-4ce7-90b9-74320b604996",
   "metadata": {},
   "source": [
    "- sys.argv[0]：　 スクリプト名\n",
    "- sys.argv[1:] ：　コマンドライン引数"
   ]
  },
  {
   "cell_type": "code",
   "execution_count": 19,
   "id": "51cfc786-e263-4031-9fb7-26d899e7a048",
   "metadata": {
    "collapsed": true,
    "jupyter": {
     "outputs_hidden": true
    },
    "tags": []
   },
   "outputs": [
    {
     "name": "stdout",
     "output_type": "stream",
     "text": [
      "b'ply\\n'\n",
      "b'format binary_little_endian 1.0\\n'\n",
      "b'comment VCGLIB generated\\n'\n",
      "b'element vertex 1494\\n'\n",
      "b'property float x\\n'\n",
      "b'property float y\\n'\n",
      "b'property float z\\n'\n",
      "b'element face 1194\\n'\n",
      "b'property list uchar int vertex_indices\\n'\n"
     ]
    },
    {
     "ename": "ValueError",
     "evalue": "invalid literal for int() with base 10: b'vertex_indices\\n'",
     "output_type": "error",
     "traceback": [
      "\u001b[0;31m---------------------------------------------------------------------------\u001b[0m",
      "\u001b[0;31mValueError\u001b[0m                                Traceback (most recent call last)",
      "\u001b[0;32m<ipython-input-19-a84edf87f27b>\u001b[0m in \u001b[0;36m<module>\u001b[0;34m\u001b[0m\n\u001b[1;32m     12\u001b[0m             \u001b[0;32mbreak\u001b[0m\u001b[0;34m\u001b[0m\u001b[0;34m\u001b[0m\u001b[0m\n\u001b[1;32m     13\u001b[0m         \u001b[0;32mif\u001b[0m \u001b[0;34mb'vertex'\u001b[0m \u001b[0;32min\u001b[0m \u001b[0mline\u001b[0m\u001b[0;34m:\u001b[0m\u001b[0;34m\u001b[0m\u001b[0;34m\u001b[0m\u001b[0m\n\u001b[0;32m---> 14\u001b[0;31m             \u001b[0mvnum\u001b[0m \u001b[0;34m=\u001b[0m \u001b[0mint\u001b[0m\u001b[0;34m(\u001b[0m\u001b[0mline\u001b[0m\u001b[0;34m.\u001b[0m\u001b[0msplit\u001b[0m\u001b[0;34m(\u001b[0m\u001b[0;34mb' '\u001b[0m\u001b[0;34m)\u001b[0m\u001b[0;34m[\u001b[0m\u001b[0;34m-\u001b[0m\u001b[0;36m1\u001b[0m\u001b[0;34m]\u001b[0m\u001b[0;34m)\u001b[0m \u001b[0;31m#頂点の数\u001b[0m\u001b[0;34m\u001b[0m\u001b[0;34m\u001b[0m\u001b[0m\n\u001b[0m\u001b[1;32m     15\u001b[0m         \u001b[0;32mif\u001b[0m \u001b[0;34mb'face'\u001b[0m \u001b[0;32min\u001b[0m \u001b[0mline\u001b[0m\u001b[0;34m:\u001b[0m\u001b[0;34m\u001b[0m\u001b[0;34m\u001b[0m\u001b[0m\n\u001b[1;32m     16\u001b[0m             \u001b[0mfnum\u001b[0m \u001b[0;34m=\u001b[0m \u001b[0mint\u001b[0m\u001b[0;34m(\u001b[0m\u001b[0mline\u001b[0m\u001b[0;34m.\u001b[0m\u001b[0msplit\u001b[0m\u001b[0;34m(\u001b[0m\u001b[0;34mb' '\u001b[0m\u001b[0;34m)\u001b[0m\u001b[0;34m[\u001b[0m\u001b[0;34m-\u001b[0m\u001b[0;36m1\u001b[0m\u001b[0;34m]\u001b[0m\u001b[0;34m)\u001b[0m\u001b[0;31m#面の数\u001b[0m\u001b[0;34m\u001b[0m\u001b[0;34m\u001b[0m\u001b[0m\n",
      "\u001b[0;31mValueError\u001b[0m: invalid literal for int() with base 10: b'vertex_indices\\n'"
     ]
    }
   ],
   "source": [
    "import sys\n",
    "import struct\n",
    "\n",
    "#with open(sys.argv[1], 'rb') as f:\n",
    "filename = \"../3rdparty/Open3D/examples/test_data/bathtub_0154.ply\"\n",
    "with open(filename, 'rb') as f:\n",
    "    #ヘッダーの読み込み\n",
    "    while True:\n",
    "        line = f.readline()\n",
    "        print(line)\n",
    "        if b'end_header' in line:\n",
    "            break\n",
    "        if b'vertex' in line:\n",
    "            vnum = int(line.split(b' ')[-1]) #頂点の数\n",
    "        if b'face' in line:\n",
    "            fnum = int(line.split(b' ')[-1])#面の数\n",
    "    \n",
    "    #頂点の読み込み\n",
    "    for i in range(vnum):\n",
    "        for j in range(3):\n",
    "            print(struct.unpack('f', f.read(4))[0], end=' ')\n",
    "        print(\"\")\n",
    "    \n",
    "    #面の読み込み\n",
    "    for i in range(fnum):\n",
    "        n = struct.unpack('B', f,read(1))[0]\n",
    "        for j in range(n):\n",
    "            print(struct.unpack('i', f.read(4))[0], end=' ')\n",
    "        print(\"\")"
   ]
  },
  {
   "cell_type": "markdown",
   "id": "9e85c881-1df6-4c70-a4e7-2c10b3204240",
   "metadata": {},
   "source": [
    "## 2.2 描画"
   ]
  },
  {
   "cell_type": "code",
   "execution_count": 23,
   "id": "b3834dc5-2f8b-4ac7-a3b2-f8476e07f576",
   "metadata": {},
   "outputs": [
    {
     "name": "stdout",
     "output_type": "stream",
     "text": [
      "Loading a point cloud from ../../Downloads/Housei_20221027_02.ply\n",
      "PointCloud with 1892989 points.\n",
      "[[-18.7566452  -32.68566895  63.2834053 ]\n",
      " [-16.99583817 -30.5393219   68.82434082]\n",
      " [-11.1352911   20.93461609  13.35097408]\n",
      " ...\n",
      " [-16.6009903   30.10222054   7.86988544]\n",
      " [-18.54046631  35.04523468   7.35676718]\n",
      " [ -5.76789188 -12.85958672  69.9982605 ]]\n"
     ]
    }
   ],
   "source": [
    "import sys \n",
    "import numpy as np\n",
    "import open3d as o3d\n",
    "\n",
    "#filename = sys.argv[1]\n",
    "#filename = \"../3rdparty/Open3D/examples/test_data/bathtub_0154.ply\"\n",
    "#filename = \"../3rdparty/Open3D/examples/test_data/fragment.ply\"\n",
    "#filename = \"../../Downloads/20221013_work_8.PLY\" \n",
    "filename = \"../../Downloads/Housei_20221027_02.ply\"\n",
    "\n",
    "print(\"Loading a point cloud from\", filename)\n",
    "pcd = o3d.io.read_point_cloud(filename) #ファイルから点群データを読み込み\n",
    "#pcd = o3d.io.read_triangle_mesh(filename) #ファイルから点群データをメッシュで読み込み\n",
    "\n",
    "print(pcd)\n",
    "print(np.asarray(pcd.points))\n",
    "\n",
    "o3d.visualization.draw_geometries([pcd]) #描画"
   ]
  },
  {
   "cell_type": "markdown",
   "id": "70bd975c-f026-44a9-bfda-c424c4571566",
   "metadata": {},
   "source": [
    "ここでOpen3dは点群を描画する関数だから面の情報は無視される  \n",
    "だから見た目がMeshlabとは異なる"
   ]
  },
  {
   "cell_type": "markdown",
   "id": "af25c717-101c-48d1-90bd-6acc7a704703",
   "metadata": {},
   "source": [
    "## 2.3 回転・並進・スケール変換  \n",
    "数式に関しては、後で追う  \n",
    "  \n",
    "- Open3Dでは、回転行列Rを用いて回転を指定する"
   ]
  },
  {
   "cell_type": "code",
   "execution_count": 3,
   "id": "9361b71e-c60d-4b5f-b5b4-6545afcae39d",
   "metadata": {},
   "outputs": [],
   "source": [
    "#メッシュにするコード\n",
    "import sys\n",
    "import open3d as o3d\n",
    "import numpy as np\n",
    "\n",
    "\"\"\"\n",
    "メッシュを回転したり移動したりすることはできるが、最初は灰色で均一に塗られており、「3d」のように見えない。その理由は、この時点のメッシュに頂点や面の法線がないためである。 \n",
    "したがって、より洗練されたPhongシェーディングの代わりに、均一なカラーシェーディングが使用される。\n",
    "\"\"\"\n",
    "def ply_to_mesh(filename):\n",
    "    print(\"Loading a point cloud from\", filename)\n",
    "    mesh = o3d.io.read_triangle_mesh(filename)\n",
    "    print(mesh)\n",
    "    #メッシュでデータを表示\n",
    "    o3d.visualization.draw_geometries([mesh])\n",
    "\n",
    "    pcd = o3d.geometry.PointCloud()\n",
    "    pcd.points = mesh.vertices\n",
    "    #法線推定して、法線データを出力する\n",
    "    pcd.estimate_normals(search_param=o3d.geometry.KDTreeSearchParamHybrid(radius=10.0, max_nn=10))\n",
    "\n",
    "    print(np.asarray(pcd.normals))\n",
    "    o3d.visualization.draw_geometries([pcd], point_show_normal=True)\n",
    "\n",
    "    #メッシュデータで法線推定して、法線データを出力する\n",
    "    mesh.compute_vertex_normals()\n",
    "    mesh.paint_uniform_color([0.5, 0.5, 0.5])\n",
    "    #print(np.asarray(mesh.triangle_normals))\n",
    "    #o3d.visualization.draw_geometries([mesh])\n",
    "    \n",
    "    return pcd, mesh"
   ]
  },
  {
   "cell_type": "code",
   "execution_count": 9,
   "id": "3791fef7-2795-4f4d-ae52-27fe9d09dba4",
   "metadata": {},
   "outputs": [
    {
     "name": "stdout",
     "output_type": "stream",
     "text": [
      "R: [[ 0.5        0.         0.8660254]\n",
      " [ 0.         1.         0.       ]\n",
      " [-0.8660254  0.         0.5      ]]\n",
      "R: [[ 0.5        0.         0.8660254]\n",
      " [ 0.         1.         0.       ]\n",
      " [-0.8660254  0.         0.5      ]]\n",
      "R: [[ 0.5        0.         0.8660254]\n",
      " [ 0.         1.         0.       ]\n",
      " [-0.8660254  0.         0.5      ]]\n",
      "Type q to continue.\n",
      "Type q to continue.\n",
      "Type q to continue.\n"
     ]
    }
   ],
   "source": [
    "import numpy as np\n",
    "import open3d as o3d\n",
    "import copy \n",
    "\n",
    "#軸のメッシュを作成\n",
    "#mesh = o3d.geometry.TriangleMesh.create_coordinate_frame()\n",
    "#filename = \"../../Downloads/Housei_20221027_02.ply\"\n",
    "filename = \"G-PCD/stimuli/D01/cube.ply\"\n",
    "#点群をメッシュにする\n",
    "mesh = o3d.io.read_triangle_mesh(filename)\n",
    "#pcd, mesh = ply_to_mesh(filename)\n",
    "\n",
    "#回転\n",
    "R = o3d.geometry.get_rotation_matrix_from_yxz([np.pi/3, 0, 0])\n",
    "print(\"R:\", np.round(R, 7))\n",
    "R = o3d.geometry.get_rotation_matrix_from_axis_angle([0, np.pi/3, 0])\n",
    "print(\"R:\", np.round(R, 7))\n",
    "R = o3d.geometry.get_rotation_matrix_from_quaternion([np.cos(np.pi/6), 0, np.sin(np.pi/6), 0])\n",
    "print(\"R:\", np.round(R, 7))\n",
    "mesh_r = copy.deepcopy(mesh)\n",
    "mesh_r.rotate(R, center=[0, 0, 0])\n",
    "\n",
    "#並進\n",
    "t = [0.5, 0.7, 1]\n",
    "mesh_t = copy.deepcopy(mesh_r).translate(t)\n",
    "print(\"Type q to continue.\")\n",
    "o3d.visualization.draw_geometries([mesh, mesh_t])\n",
    "\n",
    "#回転と並進\n",
    "T = np.eye(4)\n",
    "T[:3, :3] = R\n",
    "T[:3, 3] = t\n",
    "mesh_t = copy.deepcopy(mesh).transform(T)\n",
    "print(\"Type q to continue.\")\n",
    "o3d.visualization.draw_geometries([mesh, mesh_t])\n",
    "\n",
    "#スケール\n",
    "mesh_s = copy.deepcopy(mesh_t)\n",
    "mesh_s.scale(0.5, center=mesh_s.get_center())\n",
    "print(\"Type q to continue.\")\n",
    "o3d.visualization.draw_geometries([mesh, mesh_s])"
   ]
  },
  {
   "cell_type": "code",
   "execution_count": 15,
   "id": "3b92fa3e-ea5f-49f5-b1ed-d7034dd328dd",
   "metadata": {},
   "outputs": [
    {
     "name": "stdout",
     "output_type": "stream",
     "text": [
      "初めの座標 : [[0.       0.       0.      ]\n",
      " [0.       0.014142 0.      ]\n",
      " [0.       0.028284 0.      ]\n",
      " ...\n",
      " [1.       0.989949 0.961665]\n",
      " [1.       0.989949 0.975807]\n",
      " [1.       0.989949 0.989949]]\n",
      "----------------------------------------------------------------------------------------------------\n",
      "R: [[ 0.5        0.         0.8660254]\n",
      " [ 0.         1.         0.       ]\n",
      " [-0.8660254  0.         0.5      ]]\n",
      "R: [[ 0.5        0.         0.8660254]\n",
      " [ 0.         1.         0.       ]\n",
      " [-0.8660254  0.         0.5      ]]\n",
      "R: [[ 0.5        0.         0.8660254]\n",
      " [ 0.         1.         0.       ]\n",
      " [-0.8660254  0.         0.5      ]]\n",
      "----------------------------------------------------------------------------------------------------\n",
      "回転後の座標 : [[ 0.          0.          0.        ]\n",
      " [ 0.          0.014142    0.        ]\n",
      " [ 0.          0.028284    0.        ]\n",
      " ...\n",
      " [ 1.33282632  0.989949   -0.3851929 ]\n",
      " [ 1.34507365  0.989949   -0.3781219 ]\n",
      " [ 1.35732098  0.989949   -0.3710509 ]]\n",
      "----------------------------------------------------------------------------------------------------\n",
      "Type q to continue.\n",
      "並進後の座標 : [[0.5      0.7      1.      ]\n",
      " [0.5      0.714142 1.      ]\n",
      " [0.5      0.728284 1.      ]\n",
      " ...\n",
      " [1.5      1.689949 1.961665]\n",
      " [1.5      1.689949 1.975807]\n",
      " [1.5      1.689949 1.989949]]\n",
      "----------------------------------------------------------------------------------------------------\n",
      "Type q to continue.\n",
      "回転・並進後の座標 : [[1.6160254  1.4        1.0669873 ]\n",
      " [1.6160254  1.414142   1.0669873 ]\n",
      " [1.6160254  1.428284   1.0669873 ]\n",
      " ...\n",
      " [2.94885172 2.389949   0.68179439]\n",
      " [2.96109905 2.389949   0.68886539]\n",
      " [2.97334639 2.389949   0.69593639]]\n",
      "----------------------------------------------------------------------------------------------------\n",
      "Type q to continue.\n",
      "スケール調整後の座標 : [[0.24832491 0.24832491 0.24832491]\n",
      " [0.24832491 0.25539591 0.24832491]\n",
      " [0.24832491 0.26246691 0.24832491]\n",
      " ...\n",
      " [0.74832491 0.74329941 0.72915741]\n",
      " [0.74832491 0.74329941 0.73622841]\n",
      " [0.74832491 0.74329941 0.74329941]]\n",
      "----------------------------------------------------------------------------------------------------\n"
     ]
    }
   ],
   "source": [
    "#軸のメッシュを作成\n",
    "filename = \"G-PCD/stimuli/D01/cube.ply\"\n",
    "pcd = o3d.io.read_point_cloud(filename)\n",
    "print(f\"初めの座標 : {np.asarray(pcd.points)}\")\n",
    "print(\"-\"*100)\n",
    "#回転\n",
    "R = o3d.geometry.get_rotation_matrix_from_yxz([np.pi/3, 0, 0])\n",
    "print(\"R:\", np.round(R, 7))\n",
    "R = o3d.geometry.get_rotation_matrix_from_axis_angle([0, np.pi/3, 0])\n",
    "print(\"R:\", np.round(R, 7))\n",
    "R = o3d.geometry.get_rotation_matrix_from_quaternion([np.cos(np.pi/6), 0, np.sin(np.pi/6), 0])\n",
    "print(\"R:\", np.round(R, 7))\n",
    "print(\"-\"*100)\n",
    "\n",
    "#回転\n",
    "pcd_r = copy.deepcopy(pcd).rotate(R, center=[0, 0, 0])\n",
    "o3d.visualization.draw_geometries([pcd, pcd_r])\n",
    "print(f\"回転後の座標 : {np.asarray(pcd_r.points)}\")\n",
    "print(\"-\"*100)\n",
    "\n",
    "#並進\n",
    "t = [0.5, 0.7, 1]\n",
    "pcd_t = copy.deepcopy(pcd).translate(t)\n",
    "print(\"Type q to continue.\")\n",
    "o3d.visualization.draw_geometries([pcd, pcd_t])\n",
    "print(f\"並進後の座標 : {np.asarray(pcd_t.points)}\")\n",
    "print(\"-\"*100)\n",
    "\n",
    "#回転と並進\n",
    "T = np.eye(4)\n",
    "T[:3, :3] = R\n",
    "T[:3, 3] = t\n",
    "pcd_t = copy.deepcopy(pcd_t).transform(T)\n",
    "print(\"Type q to continue.\")\n",
    "o3d.visualization.draw_geometries([pcd, pcd_t])\n",
    "print(f\"回転・並進後の座標 : {np.asarray(pcd_t.points)}\")\n",
    "print(\"-\"*100)\n",
    "\n",
    "#スケール\n",
    "pcd_s = copy.deepcopy(pcd)\n",
    "pcd_s.scale(0.5, center=pcd_s.get_center())\n",
    "print(\"Type q to continue.\")\n",
    "o3d.visualization.draw_geometries([pcd, pcd_s])\n",
    "print(f\"スケール調整後の座標 : {np.asarray(pcd_s.points)}\")\n",
    "print(\"-\"*100)"
   ]
  },
  {
   "cell_type": "markdown",
   "id": "2259c249-142a-4333-9714-4f8a25e0b7a8",
   "metadata": {},
   "source": [
    "## 2.4 サンプリング"
   ]
  },
  {
   "cell_type": "markdown",
   "id": "bf9b1815-dafb-42e2-8d78-d6a7d98f1006",
   "metadata": {},
   "source": [
    "二次元画像  \n",
    "- ピクセルが格子状に並んでいる\n",
    "    - 全ての点が輝度やRGBカラー値といった値を持っている\n",
    "- ピクセルの数は画像の大きさと直接関係する  \n",
    "  \n",
    "三次元点群データ\n",
    "- 点群データは空間的に不均一に存在している\n",
    "    - 計測器に近い物体は点と点の距離が小さく、遠い物体の表面上の点と点の距離は大きくなる\n",
    "    - 見えないところの点は計測できない\n",
    "    - 点の数が多ければ、解像度が高いとも限らない\n",
    "  \n",
    "ボクセル化  \n",
    "- 二次元画像のピクセルを三次元に拡張したもの\n",
    "- xyz方向に点が整列している\n",
    "    - ただ計測点の存在しない箇所は空であるため、疎なデータになっている\n",
    "        - だから二次元画像ほどデータの解析が容易ではない"
   ]
  },
  {
   "cell_type": "markdown",
   "id": "ddf94a9f-d93f-415f-a8dd-5df2c12bf9a4",
   "metadata": {},
   "source": [
    "#### ボクセル化の処理  \n",
    "- 点群データ内の全ての点xyz座標が最大最小値を取得する\n",
    "- これらの値全ての組み合わせからなる8点を頂点とする直方体を作る→2^3=8だから8点\n",
    "    - これをバウンディボックスという\n",
    "- これらを一片の長さsで分割する（今回だとs=0.03）\n",
    "- 次に各点の座標を参照して、ボクセルに割り当てられるインデックスを計算して、ボクセルへと点を追加する\n",
    "- 最後に、各ボクセル内の点群の座標の平均値を求め、ボクセルごとに0又は１個の新しい点を作成して、点群データを出力する\n",
    "    - 単純にボクセル化だとこの動作をしない場合もある\n",
    "    \n",
    "注意  \n",
    "単純に等間隔サンプリングだとk=3の時に全体の3分の1の個数の点群データを出力するが、点群データの点の並びは一般的に規則性がない  \n",
    "即ち、入力点群データの点が空間的に等間隔に並んでない限りは、出力点群データも空間的に等間隔にはならない"
   ]
  },
  {
   "cell_type": "code",
   "execution_count": 5,
   "id": "03c1d334-0d00-43a3-a7b5-9d3f06912e9d",
   "metadata": {},
   "outputs": [
    {
     "name": "stdout",
     "output_type": "stream",
     "text": [
      "Loading a point cloud from /Users/sotaaraki/Downloads/20221109_work_cube20.ply\n",
      "PointCloud with 1687887 points.\n",
      "PointCloud with 3531 points.\n"
     ]
    }
   ],
   "source": [
    "#等間隔サンプリング\n",
    "import sys\n",
    "import open3d as o3d\n",
    "\n",
    "#filename = sys.argv[1]\n",
    "#filename = \"../3rdparty/Open3D/examples/test_data/fragment.ply\"\n",
    "filename = \"/Users/sotaaraki/Downloads/20221109_work_cube20.ply\"\n",
    "#s = float(sys.argv[2])\n",
    "s = 3\n",
    "print(\"Loading a point cloud from\", filename)\n",
    "pcd = o3d.io.read_point_cloud(filename)\n",
    "print(pcd)\n",
    "\n",
    "#点群の描画\n",
    "o3d.visualization.draw_geometries([pcd], zoom=0.3412, front=[0.4257, -0.2125, -0.8975], lookat=[2.6172, 2.0475, 1.532], up=[-0.0694, -0.9768, 0.2024])\n",
    "downpcd = pcd.voxel_down_sample(voxel_size=s) #パラメータsで指定した長さをボクセルの一辺とし、各ボクセルの中に1点が存在するようにダウンサンプリングをしている\n",
    "print(downpcd)\n",
    "\n",
    "#点群の描画\n",
    "o3d.visualization.draw_geometries([downpcd], zoom=0.3412, front=[0.4257, -0.2125, -0.8975], lookat=[2.6172, 2.0475, 1.532], up=[-0.0694, -0.9768, 0.2024])"
   ]
  },
  {
   "cell_type": "markdown",
   "id": "306e4dc5-2367-440a-a732-666dff19223b",
   "metadata": {},
   "source": [
    "#### FPS(Farthest Point Sampling)\n",
    "各部分領域の中心点を求めるために、点群データ全体からなるべく等間隔に離れたk個の点をサンプリングするために使う手法。また距離の定義を任意に設定できるということも特徴。  \n",
    "また計算コストが高いということが難点である。そのため、学習時の前処理などのオフライン処理に適している。\n",
    "\n",
    "- https://ieeexplore.ieee.org/stamp/stamp.jsp?tp=&arnumber=623193\n",
    "\n",
    "原理  \n",
    "- 初めに1点をランダムに選択します\n",
    "- この点と他の全ての距離を計算して、最も距離の大きい点を選択する\n",
    "- この選択された点と他の全ての点との距離を計算する\n",
    "- 各点について、上記の二つの距離のうち、最小の距離に注目する\n",
    "- そして、その距離が最大となる点を第三の点として選択する\n",
    "- 上記の動作を繰り返して、k個の点を選択する"
   ]
  },
  {
   "cell_type": "code",
   "execution_count": 6,
   "id": "c43db555-9beb-4782-8892-4a088a84da76",
   "metadata": {},
   "outputs": [
    {
     "name": "stdout",
     "output_type": "stream",
     "text": [
      "Loading a point cloud from /Users/sotaaraki/Downloads/20221109_work_cube20.ply\n",
      "PointCloud with 1687887 points.\n",
      "PointCloud with 3531 points.\n"
     ]
    }
   ],
   "source": [
    "#Farthest Point Sampling(FPS)\n",
    "import sys\n",
    "import numpy as np\n",
    "import open3d as o3d\n",
    "\n",
    "def l2_norm(a, b):\n",
    "    return ((a-b)**2).sum(axis=1)\n",
    "\n",
    "def farthest_point_sampling(pcd, k, metrics=l2_norm):\n",
    "    indices = np.zeros(k, dtype=np.int32)\n",
    "    points = np.asarray(pcd.points) #np.asarrayは元の配列も変化する。ちなみにnp.arrayは元の配列は変化しない\n",
    "    distances = np.zeros((k, points.shape[0]), dtype=np.float32)\n",
    "    indices[0] = np.random.randint(len(points))\n",
    "    farthest_point = points[indices[0]]\n",
    "    min_distances = metrics(farthest_point, points)\n",
    "    distances[0, :] = min_distances\n",
    "    for i in range(1, k):\n",
    "        indices[i] = np.argmax(min_distances)\n",
    "        farthest_point = points[indices[i]]\n",
    "        distances[i, :] = metrics(farthest_point, points)\n",
    "        min_distances = np.minimum(min_distances, distances[i, :])\n",
    "    pcd = pcd.select_by_index(indices)\n",
    "    return pcd\n",
    "\n",
    "#main部\n",
    "#filename = sys.argv[1]\n",
    "#filename = \"../3rdparty/Open3D/examples/test_data/fragment.ply\"\n",
    "filename = \"/Users/sotaaraki/Downloads/20221109_work_cube20.ply\"\n",
    "#k = int(sys.argv[2])\n",
    "k = 1000\n",
    "print(\"Loading a point cloud from\", filename)\n",
    "pcd = o3d.io.read_point_cloud(filename)\n",
    "print(pcd)\n",
    "\n",
    "o3d.visualization.draw_geometries([pcd], zoom=0.3412, front=[0.4257, -0.2125, -0.8975], lookat=[2.6172, 2.0475, 1.532], up=[-0.0694, -0.9768, 0.2024])\n",
    "dowpcd = farthest_point_sampling(pcd, k)\n",
    "print(downpcd)\n",
    "\n",
    "o3d.visualization.draw_geometries([downpcd], zoom=0.3412, front=[0.4257, -0.2125, -0.8975], lookat=[2.6172, 2.0475, 1.532], up=[-0.0694, -0.9768, 0.2024])"
   ]
  },
  {
   "cell_type": "markdown",
   "id": "b66c9100-7530-4b4e-aaed-5ac951e5a69c",
   "metadata": {},
   "source": [
    "#### Poisson Disk Sampling(PDS)\n",
    "FPSが高速処理ができないことがデメリットであったため、それをできるように別の方法をとったものがこの方法。  ランダムサンプリングに近いが、サンプリングされた2点間距離の最小値をある指定した値以下にならないように制御できる。これによって、出力点群の全ての点が互いにある一定以上の距離で離れており、実用的には、空間的均一性の高いサンプリングを行うことができる  \n",
    "\n",
    "原理\n",
    "- 初めに一点をランダムに選択する\n",
    "- その次の点もランダムに選択する\n",
    "- 選択される点を中心に半径rの円を考え、円の中にすでにサンプリングされた点があれば。選択された点を削除する\n",
    "- 上記の操作をk回繰り返す"
   ]
  },
  {
   "cell_type": "code",
   "execution_count": 7,
   "id": "28ae01fc-0727-41a5-9ab9-96540061c27d",
   "metadata": {},
   "outputs": [
    {
     "name": "stdout",
     "output_type": "stream",
     "text": [
      "Loading a triangle mesh from /Users/sotaaraki/Downloads/20221109_work_cube20.ply\n",
      "TriangleMesh with 1687887 points and 3375766 triangles.\n",
      "PointCloud with 500 points.\n"
     ]
    }
   ],
   "source": [
    "#Possion Disk Sampling(PDS)\n",
    "import sys\n",
    "import open3d as o3d\n",
    "\n",
    "#filename = sys.argv[1]\n",
    "#filename = \"../3rdparty/Open3D/examples/test_data/knot.ply\"\n",
    "filename = \"/Users/sotaaraki/Downloads/20221109_work_cube20.ply\"\n",
    "#k = int(sys.argv[2])\n",
    "k = 500\n",
    "print(\"Loading a triangle mesh from\", filename)\n",
    "mesh = o3d.io.read_triangle_mesh(filename)\n",
    "print(mesh)\n",
    "\n",
    "o3d.visualization.draw_geometries([mesh], mesh_show_wireframe=True)\n",
    "\n",
    "downpcd = mesh.sample_points_poisson_disk(number_of_points=k)\n",
    "print(downpcd)\n",
    "\n",
    "o3d.visualization.draw_geometries([downpcd])"
   ]
  },
  {
   "cell_type": "markdown",
   "id": "4eb6a226-46dd-4e5b-a507-470b7f47b4d6",
   "metadata": {},
   "source": [
    "### 最新の研究事例で用いられるサブサンプリング\n",
    "- FPS\n",
    "    - 概形を損なわずにサブサンプリングすることが可能\n",
    "    - ただO(N^2)の計算量が必要なため、タスクや入力点群によっては利用しにくい場合がある\n",
    "最新の手法\n",
    "- ShellNet\n",
    "    - 点群畳み込みを提案した研究事例　\n",
    "    - 提案した畳み込み手法と組み合わせた場合には、ランダムに点群をサブサンプリングしたとしても性能が悪化しないことが報告されている　\n",
    "    - https://arxiv.org/pdf/1908.06295.pdf\n",
    "- Flex-convolution    \n",
    "    - 点群畳み込みを提案した研究事例　\n",
    "    - IDISS(Inversity Density Importance Sub-Sampling)\n",
    "    - O(N)の計算量になるため、FPSより高速\n",
    "- USIP\n",
    "    - 三次元位置合わせのための特徴点検出にサブサンプリングを利用した手法\n",
    "    - 学習して使う\n",
    "    - https://openaccess.thecvf.com/content_ICCV_2019/papers/Li_USIP_Unsupervised_Stable_Interest_Point_Detection_From_3D_Point_Clouds_ICCV_2019_paper.pdf\n",
    "- Modeling Subset Sampling\n",
    "    - Gamblin-Maxをを用いた確率的なサブサンプリング手法の提案\n",
    "    - https://arxiv.org/pdf/1904.03375.pdf"
   ]
  },
  {
   "cell_type": "markdown",
   "id": "066c8f3b-18d3-4a66-b619-c9bf52c31633",
   "metadata": {},
   "source": [
    "#### 外れ値除去\n",
    "統計的外れ値除去  \n",
    "- 各点とその近傍点との距離の平均値を求める\n",
    "- この平均値に基づいてある閾値を定め、近傍点との距離が閾値以上になる値の点を外れ値として除去する\n",
    "    - nb_neighborsは考慮する近傍点の個数\n",
    "    - std_ratioは距離の閾値を決定するパラメータ。この値が小さいほど、多くの値を外れ値として除去する\n",
    "  \n",
    "半径外れ値除去  \n",
    "- 各点を中心とするある半径の球内の点を近傍点とみなしたとき、近傍点の個数が閾値未満となる点を外れ値として除去する\n",
    "    - nb_pointsは近傍点の個数の閾値\n",
    "    - radiusは球の半径"
   ]
  },
  {
   "cell_type": "code",
   "execution_count": 15,
   "id": "355b97d3-f442-44f4-a41d-e912f8b81689",
   "metadata": {},
   "outputs": [
    {
     "name": "stdout",
     "output_type": "stream",
     "text": [
      "Loading a point cloud from ../3rdparty/Open3D/examples/test_data/fragment.ply\n",
      "PointCloud with 196133 points.\n",
      "Statistical oulier removal\n",
      "Showing outliers (red) and inliers (gray): \n",
      "Radius oulier removal\n",
      "Showing outliers (red) and inliers (gray): \n"
     ]
    }
   ],
   "source": [
    "import sys\n",
    "import open3d as o3d\n",
    "\n",
    "def display_inlier_outlier(cloud, ind):\n",
    "    inlier_cloud = cloud.select_by_index(ind)\n",
    "    outlier_cloud = cloud.select_by_index(ind, invert=True)\n",
    "    \n",
    "    print(\"Showing outliers (red) and inliers (gray): \")\n",
    "    outlier_cloud.paint_uniform_color([1, 0, 0])\n",
    "    inlier_cloud.paint_uniform_color([0.8, 0.8, 0.8])\n",
    "    o3d.visualization.draw_geometries([inlier_cloud, outlier_cloud], zoom=0.3412, front=[0.4257, -0.2125, -0.8975], lookat=[2.6172, 2.0475, 1.532], up=[-0.0694, -0.9768, 0.2024])\n",
    "    \n",
    "#filename = sys.argv[1]\n",
    "filename = \"../3rdparty/Open3D/examples/test_data/fragment.ply\"\n",
    "print(\"Loading a point cloud from\", filename)\n",
    "pcd = o3d.io.read_point_cloud(filename)\n",
    "print(pcd)\n",
    "\n",
    "#統計的外れ値除去\n",
    "print(\"Statistical oulier removal\")\n",
    "cl, ind = pcd.remove_statistical_outlier(nb_neighbors=20, std_ratio=2.0)\n",
    "display_inlier_outlier(pcd, ind)\n",
    "\n",
    "#半径外れ値除去\n",
    "print(\"Radius oulier removal\")\n",
    "cl, ind = pcd.remove_radius_outlier(nb_points=16, radius=0.02)\n",
    "display_inlier_outlier(pcd, ind)"
   ]
  },
  {
   "cell_type": "markdown",
   "id": "ecad2113-04d9-4af3-9477-a8f4415ce1d1",
   "metadata": {},
   "source": [
    "## 2.5 法線推定\n",
    "点群が何らかの物体表面という曲面上に分布していると仮定する。そして、各点の法線はその点における接平面に直交するベクトルとして定義される\n",
    "  \n",
    "#### 点群からの法線推定\n",
    "- まず各点の近傍点を求める\n",
    "- 近傍点群の3次元座標に対して主成分分析を行う\n",
    "    - 主成分分析は近傍点群の分散共分散を求め、その固有値分解を行う手法\n",
    "    - 今回は法線ベクトルとして、サンプルの分散が小さい軸を選ぶ\n",
    "    - 最小固有値を持つ、固有ベクトルを選べば、これが求める法線ベクトルに相当する\n",
    "    \n",
    "#### メッシュデータからの法線推定\n",
    "- 面を構成する辺のうち2本の外積を求めれば、それが面の法線ベクトル\n",
    "    - 点の法線ベクトルはその点が含まれる全ての面の法線ベクトルの平均値として求められる\n",
    "    - ただノルムが1になるように正規化する必要がある"
   ]
  },
  {
   "cell_type": "code",
   "execution_count": 8,
   "id": "7b57be90-4ec7-4ad7-a2e4-a966505c428e",
   "metadata": {},
   "outputs": [
    {
     "name": "stdout",
     "output_type": "stream",
     "text": [
      "Loading a point cloud from ../../Downloads/Housei_20221027_02.ply\n",
      "TriangleMesh with 1892989 points and 3785990 triangles.\n",
      "[[ 7.55854828e-01 -6.54739127e-01  3.93562551e-04]\n",
      " [ 7.93366075e-01 -6.08743530e-01  1.25931678e-03]\n",
      " [ 8.97173582e-01  4.41383087e-01 -1.61410963e-02]\n",
      " ...\n",
      " [ 8.04054598e-01  5.94136271e-01 -2.23225329e-02]\n",
      " [-1.30311612e-02 -9.99915084e-01 -1.15908583e-04]\n",
      " [-2.22253969e-03  6.22443896e-03  9.99978158e-01]]\n",
      "[[-7.60211939e-01  6.49667478e-01  3.15844560e-03]\n",
      " [-7.56097649e-01  6.54443965e-01  4.40924985e-03]\n",
      " [-7.59202076e-01  6.50854749e-01 -5.51192962e-04]\n",
      " ...\n",
      " [ 7.64948960e-01 -3.62610357e-01  5.32322100e-01]\n",
      " [ 8.01651966e-01 -3.14820535e-01  5.08175320e-01]\n",
      " [-3.71816358e-01 -1.76681225e-01  9.11337666e-01]]\n"
     ]
    }
   ],
   "source": [
    "import sys\n",
    "import open3d as o3d\n",
    "import numpy as np\n",
    "\n",
    "#filename = sys.argv[1]\n",
    "#filename = \"../3rdparty/Open3D/examples/test_data/knot.ply\"\n",
    "filename = \"../../Downloads/Housei_20221027_02.ply\"\n",
    "print(\"Loading a point cloud from\", filename)\n",
    "mesh = o3d.io.read_triangle_mesh(filename)\n",
    "print(mesh)\n",
    "#メッシュでデータを表示\n",
    "o3d.visualization.draw_geometries([mesh])\n",
    "\n",
    "pcd = o3d.geometry.PointCloud()\n",
    "pcd.points = mesh.vertices\n",
    "#法線推定して、法線データを出力する\n",
    "pcd.estimate_normals(search_param=o3d.geometry.KDTreeSearchParamHybrid(radius=10.0, max_nn=10))\n",
    "\n",
    "print(np.asarray(pcd.normals))\n",
    "o3d.visualization.draw_geometries([pcd], point_show_normal=True)\n",
    "\n",
    "#メッシュデータで法線推定して、法線データを出力する\n",
    "mesh.compute_vertex_normals()\n",
    "\n",
    "print(np.asarray(mesh.triangle_normals))\n",
    "o3d.visualization.draw_geometries([mesh])"
   ]
  },
  {
   "cell_type": "code",
   "execution_count": null,
   "id": "3a628af1-8808-482b-ac90-9eb823327b1f",
   "metadata": {},
   "outputs": [],
   "source": []
  }
 ],
 "metadata": {
  "kernelspec": {
   "display_name": "Python 3",
   "language": "python",
   "name": "python3"
  },
  "language_info": {
   "codemirror_mode": {
    "name": "ipython",
    "version": 3
   },
   "file_extension": ".py",
   "mimetype": "text/x-python",
   "name": "python",
   "nbconvert_exporter": "python",
   "pygments_lexer": "ipython3",
   "version": "3.8.8"
  }
 },
 "nbformat": 4,
 "nbformat_minor": 5
}
