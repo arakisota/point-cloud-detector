{
 "cells": [
  {
   "cell_type": "markdown",
   "id": "5b7fe2be-aa8b-4e54-ab0e-5c5848c90cbf",
   "metadata": {},
   "source": [
    "# 4章　点群レジストレーション（位置合わせ）"
   ]
  },
  {
   "cell_type": "markdown",
   "id": "77a1d6ac-f91f-4adf-9ebe-4345ba615ac3",
   "metadata": {},
   "source": [
    "## 4.1 最近傍点の探索（単純な方法）\n",
    "- 最近傍探索・検索\n",
    "    - 点群Xから任意の点p（クエリともいう）の最近傍点を見つけ出すタスク\n",
    "    - xiとpの二乗距離を計算して最小のものが近傍点"
   ]
  },
  {
   "cell_type": "code",
   "execution_count": 1,
   "id": "51b931be-8016-4188-808d-1bd924cd134e",
   "metadata": {},
   "outputs": [],
   "source": [
    "#最近傍点探索(単純な方法)\n",
    "import open3d as o3d\n",
    "import numpy as np\n",
    "\n",
    "#sin関数に従う点群の生成\n",
    "X_x = np.arange(-np.pi, np.pi, 0.1)\n",
    "X_y = np.sin(X_x)\n",
    "X_z = np.zeros(X_x.shape)\n",
    "X = np.vstack([X_x, X_y, X_z]).T\n",
    "\n",
    "#点pを定義\n",
    "p = np.array([1.0, 0.0, 0.0])"
   ]
  },
  {
   "cell_type": "code",
   "execution_count": 2,
   "id": "0042c107-2420-4b65-98fa-6c580f87eec4",
   "metadata": {},
   "outputs": [],
   "source": [
    "#XをOpen３Dの点群として用意\n",
    "pcd_X = o3d.geometry.PointCloud()\n",
    "pcd_X.points = o3d.utility.Vector3dVector(X)\n",
    "pcd_X.paint_uniform_color([0.5, 0.5, 0.5])\n",
    "\n",
    "#pをOpen3Dの点群として用意\n",
    "pcd_p = o3d.geometry.PointCloud()\n",
    "pcd_p.points = o3d.utility.Vector3dVector([p])\n",
    "pcd_p.paint_uniform_color([0.0, 0.0, 1.0])\n",
    "\n",
    "#座標軸を用意\n",
    "mesh = o3d.geometry.TriangleMesh.create_coordinate_frame()\n",
    "\n",
    "#可視化\n",
    "o3d.visualization.draw_geometries([mesh, pcd_X, pcd_p])"
   ]
  },
  {
   "cell_type": "code",
   "execution_count": 3,
   "id": "5394aff8-2f85-45c1-b51d-d48e5abee05b",
   "metadata": {},
   "outputs": [],
   "source": [
    "\"\"\"\n",
    "点と点群の距離を計算する関数\n",
    "distsの最小値とそのindexをそれぞれ取り出して返す\n",
    "\"\"\"\n",
    "def dist(p,X):\n",
    "    #np.linalg.normを使って点pと点群Xを構成する各点までの二乗を計算し、結果をリストdistsに保存する\n",
    "    dists = np.linalg.norm(p-X, axis=1)\n",
    "    min_dist = min(dists)\n",
    "    min_idx = np.argmin(dists)\n",
    "    \n",
    "    return min_dist, min_idx"
   ]
  },
  {
   "cell_type": "code",
   "execution_count": 4,
   "id": "d7e9cd98-bd40-4237-90ff-1fd30507b2fc",
   "metadata": {},
   "outputs": [
    {
     "name": "stdout",
     "output_type": "stream",
     "text": [
      "distance:0.69, idx:37\n",
      "nearest neighbor: [0.55840735 0.52983614 0.        ]\n"
     ]
    }
   ],
   "source": [
    "min_dist, min_idx = dist(p, X)\n",
    "np.asarray(pcd_X.colors)[min_idx] = [0.0, 1.0, 0.0]\n",
    "print(\"distance:{:.2f}, idx:{}\".format(min_dist, min_idx))\n",
    "print(\"nearest neighbor:\", X[min_idx])\n",
    "o3d.visualization.draw_geometries([mesh, pcd_X, pcd_p])"
   ]
  },
  {
   "cell_type": "markdown",
   "id": "45705a2b-89a4-46b0-b3bc-c2354060e410",
   "metadata": {},
   "source": [
    "## 4.2 最近傍点の探索（kd-treeによる方法)\n",
    "### kd-treeの構築\n",
    "- k次元空間におけるデータを整理して保存するためのデータ構造\n",
    "    - 木構造にすることで近傍点探索を効率化する\n",
    "    - 処理対象のデータが存在する空間をを軸ごとに再帰的に区切って木構造として保持する\n",
    "        　- 出来上がる気が平衡であるほど探索の処理の効率が良くなるため、分割基準は対象の軸の中央値としている\n",
    "\n",
    "### kd-treeの探索処理\n",
    "- あるクエリを準備して、kd-treeにかけて、その点とクエリの距離を半径にするとその区間内に最近傍点が存在する\n",
    "    - これを繰り返すとさらに近い近傍点を見つけることもできる\n",
    " \n",
    "### open3d 探索基準（パラメータ）\n",
    "- search_knn_vector_3d : クエリのk近傍点を抽出する方法\n",
    "- search_radius_vector_3d : 指定した半径の値以内の点を抽出する方法\n",
    "- search_hybrid_vector_3d : 上記二つの基準を満たす点を抽出する方法、RKNNサーチとも呼ばれる"
   ]
  },
  {
   "cell_type": "code",
   "execution_count": 5,
   "id": "33c451a1-1f29-411f-b80d-012f73b83187",
   "metadata": {},
   "outputs": [],
   "source": [
    "\"\"\"\n",
    "search_knn_vector_3d\n",
    "点群の10000番目の点をクエリとして、そこから近い順に200点を抽出している\n",
    "→数字は以下のパラメータで調整できる\n",
    "→dには各点の二乗距離が入っているから、ルートを取ると実際の距離になる\n",
    "\"\"\"\n",
    "#点群を読み込み、グレーに着色\n",
    "pcd = o3d.io.read_point_cloud(\"../data/bun000.pcd\")\n",
    "pcd.paint_uniform_color([0.5, 0.5, 0.5])\n",
    "\n",
    "#kd-treeの構築\n",
    "pcd_tree = o3d.geometry.KDTreeFlann(pcd)\n",
    "\n",
    "query = 10000\n",
    "pcd.colors[query] = [1, 0, 0]\n",
    "\n",
    "[k, idx, d] = pcd_tree.search_knn_vector_3d(pcd.points[query], 200)\n",
    "np.asarray(pcd.colors)[idx[1:], :] = [0, 0, 1]\n",
    "o3d.visualization.draw_geometries([pcd])"
   ]
  },
  {
   "cell_type": "code",
   "execution_count": 6,
   "id": "1972b184-6e97-4e15-b8da-87ced44a0d8b",
   "metadata": {},
   "outputs": [],
   "source": [
    "\"\"\"\n",
    "search_radius_vector_3d\n",
    "点群の20000番目の点をクエリとして、そこから距離0.01以内の点を抽出する\n",
    "\"\"\"\n",
    "query = 20000\n",
    "pcd.colors[query] = [1, 0, 0]\n",
    "[k, idx, d] = pcd_tree.search_radius_vector_3d(pcd.points[query], 0.01)\n",
    "np.asarray(pcd.colors)[idx[1:], :] = [0, 1, 0]\n",
    "o3d.visualization.draw_geometries([pcd])"
   ]
  },
  {
   "cell_type": "code",
   "execution_count": 7,
   "id": "04cd6f7d-e8d8-4fb6-bd23-41813f8f4b67",
   "metadata": {},
   "outputs": [],
   "source": [
    "\"\"\"\n",
    "search_hybrid_vector_3d\n",
    "点群の5000番目の点をクエリとして、そこから距離0.01以内の点を200点抽出する\n",
    "\"\"\"\n",
    "query = 5000\n",
    "pcd.colors[query] = [1, 0, 0]\n",
    "[k, idx, d] = pcd_tree.search_hybrid_vector_3d(pcd.points[query], radius=0.01, max_nn=200)\n",
    "np.asarray(pcd.colors)[idx[1:], :] = [0, 1, 1]\n",
    "o3d.visualization.draw_geometries([pcd])"
   ]
  },
  {
   "cell_type": "markdown",
   "id": "04152725-9157-416a-88f1-17339ab09728",
   "metadata": {},
   "source": [
    "# 以下からは別のノートブックに移行する\n",
    "- part4_ICP-point-to-point.ipynb\n",
    "- part4_ICP-point-to-plane.ipynb"
   ]
  },
  {
   "cell_type": "markdown",
   "id": "9e341f3c-2016-4e3e-81d8-3a838aac9ab4",
   "metadata": {},
   "source": [
    "## 4.3 ICPアルゴリズム\n",
    "Iterative Closest Points(ICP)  \n",
    "- 点群同士の位置合わせ処理に広く用いられる有名なアルゴリズム  \n",
    "- 位置合わせ元となるソース点群と位置合わせ先であるターゲット点群を入力とし、ソース点群をターゲット点群に位置合わせするために必要な剛体変換（回転と並進）を推定する\n",
    "- 位置合わせけかに精密さを求めるケースにおいて特に効果を発揮する\n",
    "- 初期値依存性のあるアルゴリズム\n",
    "- ソース点群とターゲット点群がある程度近い状態でないと、いい解が得られない\n",
    "  \n",
    "手順\n",
    "1. ソース点群とターゲット点群の対応づけ\n",
    "2. 剛体変換の推定\n",
    "3. 物体の姿勢のアップデート\n",
    "4. 収束判定（収束しない場合は1.へ戻る）"
   ]
  },
  {
   "cell_type": "code",
   "execution_count": 8,
   "id": "b9686c37-d42b-46b1-993d-5119609303fc",
   "metadata": {},
   "outputs": [],
   "source": [
    "#ICPアルゴリズム\n",
    "import open3d as o3d\n",
    "import numpy as np\n",
    "import copy\n",
    "\n",
    "pcd1 = o3d.io.read_point_cloud(\"../data/bun000.pcd\")\n",
    "pcd2 = o3d.io.read_point_cloud(\"../data/bun045.pcd\")\n",
    "\n",
    "#ソース点群\n",
    "pcd_s = pcd1.voxel_down_sample(voxel_size=0.005)\n",
    "#ターゲット点群\n",
    "pcd_t = pcd2.voxel_down_sample(voxel_size=0.005)"
   ]
  },
  {
   "cell_type": "code",
   "execution_count": 9,
   "id": "58c85465-4530-49d9-98c5-e0924197a1d9",
   "metadata": {},
   "outputs": [],
   "source": [
    "pcd_s.paint_uniform_color([0.0, 1.0, 0.0])\n",
    "pcd_t.paint_uniform_color([0.0, 0.0, 1.0])\n",
    "o3d.visualization.draw_geometries([pcd_s, pcd_t])"
   ]
  },
  {
   "cell_type": "markdown",
   "id": "2930b06f-5156-43a1-b77b-b5a500af8a3d",
   "metadata": {},
   "source": [
    "ICPのアルゴリズムの実行にはo3d.pipelines.registration.registration_icpを使う　　\n",
    "  \n",
    "### o3d.pipelines.registration.registration_icp\n",
    "引数の説明\n",
    "- pcd_s : 位置合わせ元の点群\n",
    "- pcd_t : 位置合わせ先の点群\n",
    "- threshold : 二つの点群を対応づけする時の最大距離\n",
    "- trans_init : pcd_sの初期姿勢\n",
    "- obj_func : 目的関数の選択肢"
   ]
  },
  {
   "cell_type": "code",
   "execution_count": 12,
   "id": "f04d38bd-500e-4a53-a4d1-e20441fa7910",
   "metadata": {},
   "outputs": [],
   "source": [
    "threshold = 0.05\n",
    "#今回は単位行列を初期姿勢\n",
    "trans_init = np.identity(4)\n",
    "obj_func = o3d.pipelines.registration.TransformationEstimationPointToPoint()\n",
    "result = o3d.pipelines.registration.registration_icp(pcd_s, pcd_t, threshold, trans_init, obj_func)"
   ]
  },
  {
   "cell_type": "code",
   "execution_count": 13,
   "id": "b58bae28-7745-4d75-8b12-0b57e33b488c",
   "metadata": {},
   "outputs": [
    {
     "name": "stdout",
     "output_type": "stream",
     "text": [
      "[[ 8.67034091e-01  4.49992090e-02 -4.96212613e-01  3.36439339e-02]\n",
      " [-3.08211182e-02  9.98849925e-01  3.67271928e-02 -4.14622696e-04]\n",
      " [ 4.97294625e-01 -1.65499006e-02  8.67423862e-01  4.06317347e-02]\n",
      " [ 0.00000000e+00  0.00000000e+00  0.00000000e+00  1.00000000e+00]]\n"
     ]
    }
   ],
   "source": [
    "trans_reg = result.transformation\n",
    "print(trans_reg)"
   ]
  },
  {
   "cell_type": "code",
   "execution_count": 14,
   "id": "990bf2d7-0810-42c6-819d-c20a5cba5483",
   "metadata": {},
   "outputs": [],
   "source": [
    "pcd_reg = copy.deepcopy(pcd_s).transform(trans_reg)\n",
    "pcd_reg.paint_uniform_color([1.0, 0.0, 0.0])\n",
    "o3d.visualization.draw_geometries([pcd_reg, pcd_t])"
   ]
  },
  {
   "cell_type": "markdown",
   "id": "41d6bab6-acf9-4719-8b17-a2025f15a433",
   "metadata": {},
   "source": [
    "## ICPアルゴリズムの目的関数\n",
    "- Point-to-Point\n",
    "    - 対応点間の二乗距離を求めている\n",
    "- Point-to-Plane\n",
    "    - ソースの点とターゲットの面の距離を評価する目的関数\n",
    "    - 距離は点から面への最短距離\n",
    "    \n",
    "ただIPCアルゴリズムの動作させる時は、1行で変更できるが剛体変換を算出することができない→これは目的関数ごとに実装方法がある"
   ]
  },
  {
   "cell_type": "code",
   "execution_count": 18,
   "id": "13581dfd-19ec-47b3-ba81-fcdfa7e3825c",
   "metadata": {},
   "outputs": [
    {
     "name": "stdout",
     "output_type": "stream",
     "text": [
      "[[ 8.32549508e-01  1.53990839e-02 -5.53736566e-01  3.45991704e-02]\n",
      " [-2.40036330e-02  9.99677504e-01 -8.28931185e-03 -1.32435428e-04]\n",
      " [ 5.53430341e-01  2.01929518e-02  8.32650649e-01  3.70841436e-02]\n",
      " [ 0.00000000e+00  0.00000000e+00  0.00000000e+00  1.00000000e+00]]\n"
     ]
    }
   ],
   "source": [
    "#Point to Planeはobj_funcを変えるだけで実装できる\n",
    "threshold = 0.05\n",
    "#今回は単位行列を初期姿勢\n",
    "trans_init = np.identity(4)\n",
    "obj_func = o3d.pipelines.registration.TransformationEstimationPointToPlane()\n",
    "result = o3d.pipelines.registration.registration_icp(pcd_s, pcd_t, threshold, trans_init, obj_func)\n",
    "trans_reg = result.transformation\n",
    "print(trans_reg)"
   ]
  },
  {
   "cell_type": "markdown",
   "id": "2ad7a9a2-9d19-4341-9c82-1a66ae4b239a",
   "metadata": {},
   "source": [
    "## 4.4 ICPアルゴリズムの実装（Point-to-Point）\n",
    "Point-to-Pointの内部を確認する  \n",
    "  \n",
    "手順（再掲）\n",
    "1. ソース点群とターゲット点群の対応づけ\n",
    "2. 剛体変換の推定\n",
    "3. 物体の姿勢のアップデート\n",
    "4. 収束判定（収束しない場合は1.へ戻る）"
   ]
  },
  {
   "cell_type": "code",
   "execution_count": 20,
   "id": "6f78a199-6dd6-49b5-b049-5b1ef6723295",
   "metadata": {},
   "outputs": [],
   "source": [
    "#ソース点群:pcd_s, ターゲット点群:pcd_t\n",
    "import open3d as o3d\n",
    "import numpy as np\n",
    "import numpy.linalg as LA\n",
    "import copy\n",
    "\n",
    "#データの読み込み\n",
    "pcd1 = o3d.io.read_point_cloud(\"../data/bun000.pcd\")\n",
    "pcd2 = o3d.io.read_point_cloud(\"../data/bun045.pcd\")\n",
    "\n",
    "#ボクセル化にダウンサンプリングする\n",
    "pcd_s = pcd1.voxel_down_sample(voxel_size=0.005)\n",
    "pcd_t = pcd2.voxel_down_sample(voxel_size=0.005)\n",
    "\n",
    "#初期状態を可視化\n",
    "pcd_s.paint_uniform_color([0.0, 1.0, 0.0])\n",
    "pcd_t.paint_uniform_color([0.0, 0.0, 1.0])\n",
    "o3d.visualization.draw_geometries([pcd_t, pcd_s])"
   ]
  },
  {
   "cell_type": "code",
   "execution_count": null,
   "id": "e35d903d-8458-4d8d-9255-50194efdca6c",
   "metadata": {},
   "outputs": [],
   "source": [
    "#四元数から回転行列への変換とqの初期化を実装\n",
    "def quanternion2rotation(q):\n",
    "    rot = np.array([q[0]**2+q])"
   ]
  }
 ],
 "metadata": {
  "kernelspec": {
   "display_name": "Python 3",
   "language": "python",
   "name": "python3"
  },
  "language_info": {
   "codemirror_mode": {
    "name": "ipython",
    "version": 3
   },
   "file_extension": ".py",
   "mimetype": "text/x-python",
   "name": "python",
   "nbconvert_exporter": "python",
   "pygments_lexer": "ipython3",
   "version": "3.8.8"
  }
 },
 "nbformat": 4,
 "nbformat_minor": 5
}
